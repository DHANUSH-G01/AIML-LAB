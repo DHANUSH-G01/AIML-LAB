{
  "cells": [
    {
      "cell_type": "code",
      "source": [
        "print(\"hello world\")"
      ],
      "metadata": {
        "colab": {
          "base_uri": "https://localhost:8080/"
        },
        "id": "WpdHAdaeHSYv",
        "outputId": "45479320-9742-41ae-85be-b90752ed9ec0"
      },
      "execution_count": 1,
      "outputs": [
        {
          "output_type": "stream",
          "name": "stdout",
          "text": [
            "hello world\n"
          ]
        }
      ]
    },
    {
      "cell_type": "code",
      "source": [
        "print(\"Hey Dhanush\")"
      ],
      "metadata": {
        "colab": {
          "base_uri": "https://localhost:8080/"
        },
        "id": "GSFfkx3uHaC3",
        "outputId": "8685e6d7-5360-42fb-b718-42f197ebaeb8"
      },
      "execution_count": 2,
      "outputs": [
        {
          "output_type": "stream",
          "name": "stdout",
          "text": [
            "Hey Dhanush\n"
          ]
        }
      ]
    },
    {
      "cell_type": "code",
      "source": [
        "# importing the module\n",
        "import keyword\n",
        "\n",
        "# printing the keywords\n",
        "print(\"Python keywords are...\")\n",
        "print(keyword.kwlist)\n"
      ],
      "metadata": {
        "id": "Q0yjrPBHQbZp",
        "outputId": "2b2bc9ea-c162-4258-fce2-d75af8494580",
        "colab": {
          "base_uri": "https://localhost:8080/"
        }
      },
      "execution_count": null,
      "outputs": [
        {
          "output_type": "stream",
          "name": "stdout",
          "text": [
            "Python keywords are...\n",
            "['False', 'None', 'True', 'and', 'as', 'assert', 'async', 'await', 'break', 'class', 'continue', 'def', 'del', 'elif', 'else', 'except', 'finally', 'for', 'from', 'global', 'if', 'import', 'in', 'is', 'lambda', 'nonlocal', 'not', 'or', 'pass', 'raise', 'return', 'try', 'while', 'with', 'yield']\n"
          ]
        }
      ]
    },
    {
      "cell_type": "code",
      "source": [
        "a=50\n",
        "b=50\n",
        "c=a+b\n",
        "print(c)"
      ],
      "metadata": {
        "id": "Rh4XHmbBTUad",
        "outputId": "77d53f80-9898-4164-9b47-11073dfae992",
        "colab": {
          "base_uri": "https://localhost:8080/"
        }
      },
      "execution_count": null,
      "outputs": [
        {
          "output_type": "stream",
          "name": "stdout",
          "text": [
            "100\n"
          ]
        }
      ]
    },
    {
      "cell_type": "code",
      "source": [
        "l1=[1,2,3,4,5,6]"
      ],
      "metadata": {
        "id": "uyXTTNqaU6x1"
      },
      "execution_count": null,
      "outputs": []
    },
    {
      "cell_type": "code",
      "source": [
        "len(l1)"
      ],
      "metadata": {
        "id": "YMyzIAQPVpM7",
        "outputId": "3a2b8fa4-50a1-4a23-98cd-4c38e8d75518",
        "colab": {
          "base_uri": "https://localhost:8080/"
        }
      },
      "execution_count": null,
      "outputs": [
        {
          "output_type": "execute_result",
          "data": {
            "text/plain": [
              "6"
            ]
          },
          "metadata": {},
          "execution_count": 9
        }
      ]
    },
    {
      "cell_type": "code",
      "source": [
        "print(1)\n"
      ],
      "metadata": {
        "id": "HzxKuFQWV7c8",
        "outputId": "6d7bc3e7-84d3-49d2-fea1-d794ba554401",
        "colab": {
          "base_uri": "https://localhost:8080/"
        }
      },
      "execution_count": null,
      "outputs": [
        {
          "output_type": "stream",
          "name": "stdout",
          "text": [
            "1\n"
          ]
        }
      ]
    },
    {
      "cell_type": "code",
      "source": [
        "print(l1)"
      ],
      "metadata": {
        "id": "tWSNpHw3WAGk",
        "outputId": "210cc7c8-dc6b-46f3-80ff-252fcf54240d",
        "colab": {
          "base_uri": "https://localhost:8080/"
        }
      },
      "execution_count": null,
      "outputs": [
        {
          "output_type": "stream",
          "name": "stdout",
          "text": [
            "[1, 2, 3, 4, 5, 6]\n"
          ]
        }
      ]
    },
    {
      "cell_type": "code",
      "source": [
        "l2=[8,9,10]"
      ],
      "metadata": {
        "id": "7p1u3_aOWI50"
      },
      "execution_count": null,
      "outputs": []
    },
    {
      "cell_type": "code",
      "source": [
        "l3=l1+l2"
      ],
      "metadata": {
        "id": "YJwBiY2OWYIU"
      },
      "execution_count": null,
      "outputs": []
    },
    {
      "cell_type": "code",
      "source": [
        "l3"
      ],
      "metadata": {
        "id": "4ao9Yk89WdHk",
        "outputId": "6b90469c-a352-4676-9dc0-69363d375c45",
        "colab": {
          "base_uri": "https://localhost:8080/"
        }
      },
      "execution_count": null,
      "outputs": [
        {
          "output_type": "execute_result",
          "data": {
            "text/plain": [
              "[1, 2, 3, 4, 5, 6, 8, 9, 10]"
            ]
          },
          "metadata": {},
          "execution_count": 14
        }
      ]
    },
    {
      "cell_type": "code",
      "source": [
        "l1=[1,1,1,2,2,2,3,3,3,4,4]"
      ],
      "metadata": {
        "id": "YoYIfq8DW3AL"
      },
      "execution_count": null,
      "outputs": []
    },
    {
      "cell_type": "code",
      "source": [
        "l2=[]\n",
        "for x in l1:\n",
        "  if x not in l2:\n",
        "    l2.append(x)\n",
        "\n",
        "l2"
      ],
      "metadata": {
        "id": "Waw4gxtLW9gV",
        "outputId": "134d8616-086f-43eb-9628-16d93684cec9",
        "colab": {
          "base_uri": "https://localhost:8080/"
        }
      },
      "execution_count": null,
      "outputs": [
        {
          "output_type": "execute_result",
          "data": {
            "text/plain": [
              "[1, 2, 3, 4]"
            ]
          },
          "metadata": {},
          "execution_count": 17
        }
      ]
    },
    {
      "cell_type": "code",
      "source": [
        "l2=list(set(l1))\n"
      ],
      "metadata": {
        "id": "7wDIYDirXxNs"
      },
      "execution_count": null,
      "outputs": []
    },
    {
      "cell_type": "code",
      "source": [
        "l1[::-1]"
      ],
      "metadata": {
        "id": "k9xCvSwcY_ZM",
        "outputId": "5aefb9c8-9c91-47a2-ceca-5ec800535887",
        "colab": {
          "base_uri": "https://localhost:8080/"
        }
      },
      "execution_count": null,
      "outputs": [
        {
          "output_type": "execute_result",
          "data": {
            "text/plain": [
              "[4, 4, 3, 3, 3, 2, 2, 2, 1, 1, 1]"
            ]
          },
          "metadata": {},
          "execution_count": 19
        }
      ]
    },
    {
      "cell_type": "code",
      "source": [
        "str1=input(\"enter a name: \")\n",
        "str2=str1[::-1]\n",
        "if str1==str2:\n",
        "  print(\"palindrome\")\n",
        "else:\n",
        "  print(\"not palindrome\")"
      ],
      "metadata": {
        "id": "8tHvKE4raqBb",
        "outputId": "dbae2f9a-6044-4748-b4e5-05c260042203",
        "colab": {
          "base_uri": "https://localhost:8080/"
        }
      },
      "execution_count": null,
      "outputs": [
        {
          "output_type": "stream",
          "name": "stdout",
          "text": [
            "enter a name: mom\n",
            "palindrome\n"
          ]
        }
      ]
    },
    {
      "cell_type": "code",
      "source": [
        "numbers=[1,2,3,4,5,6,7,8]\n",
        "sum(numbers)\n"
      ],
      "metadata": {
        "id": "wcKiqYacb2cb",
        "outputId": "98b2c256-d345-4ad5-c5bf-9d770ebd47f7",
        "colab": {
          "base_uri": "https://localhost:8080/"
        }
      },
      "execution_count": null,
      "outputs": [
        {
          "output_type": "execute_result",
          "data": {
            "text/plain": [
              "36"
            ]
          },
          "metadata": {},
          "execution_count": 23
        }
      ]
    },
    {
      "cell_type": "code",
      "source": [
        " days=['monday','tuesday','wednesday','thursday','friday','saturday','sunday']\n",
        " 'wednesday' in days"
      ],
      "metadata": {
        "id": "6oYWLHiscEI8",
        "outputId": "271080e3-9d77-45e8-e772-cabb5242e37a",
        "colab": {
          "base_uri": "https://localhost:8080/"
        }
      },
      "execution_count": null,
      "outputs": [
        {
          "output_type": "execute_result",
          "data": {
            "text/plain": [
              "True"
            ]
          },
          "metadata": {},
          "execution_count": 25
        }
      ]
    },
    {
      "cell_type": "code",
      "source": [
        "\"wednesday\" not in days"
      ],
      "metadata": {
        "id": "rkn73elrc3DN",
        "outputId": "1788d47c-6885-4efe-99b9-2b86d6355c08",
        "colab": {
          "base_uri": "https://localhost:8080/"
        }
      },
      "execution_count": null,
      "outputs": [
        {
          "output_type": "execute_result",
          "data": {
            "text/plain": [
              "False"
            ]
          },
          "metadata": {},
          "execution_count": 27
        }
      ]
    },
    {
      "cell_type": "code",
      "source": [
        "list=['red','orange','yellow']\n",
        "print(list)\n",
        "list.clear()\n",
        "print(list)\n"
      ],
      "metadata": {
        "id": "v0me-_PEdOLE",
        "outputId": "28ebdd79-c7b8-44f9-c2bc-bc1a7c753466",
        "colab": {
          "base_uri": "https://localhost:8080/"
        }
      },
      "execution_count": null,
      "outputs": [
        {
          "output_type": "stream",
          "name": "stdout",
          "text": [
            "['red', 'orange', 'yellow']\n",
            "[]\n"
          ]
        }
      ]
    },
    {
      "cell_type": "code",
      "source": [
        "nums=[1,2,3,4,1,4,1,7,8,1]\n",
        "print(nums)\n",
        "nums.count(1)"
      ],
      "metadata": {
        "id": "gYR6vISYdrds",
        "outputId": "098a8fb0-253e-4051-85d2-b9a7d8810f3c",
        "colab": {
          "base_uri": "https://localhost:8080/"
        }
      },
      "execution_count": null,
      "outputs": [
        {
          "output_type": "stream",
          "name": "stdout",
          "text": [
            "[1, 2, 3, 4, 1, 4, 1, 7, 8, 1]\n"
          ]
        },
        {
          "output_type": "execute_result",
          "data": {
            "text/plain": [
              "4"
            ]
          },
          "metadata": {},
          "execution_count": 30
        }
      ]
    },
    {
      "cell_type": "code",
      "source": [
        "a=(5,)\n",
        "print(a)\n",
        "print(type(a))\n"
      ],
      "metadata": {
        "colab": {
          "base_uri": "https://localhost:8080/"
        },
        "id": "LS1YLDmAUcJy",
        "outputId": "3cd07d0a-7d4b-433c-fcce-9022d8890474"
      },
      "execution_count": null,
      "outputs": [
        {
          "output_type": "stream",
          "name": "stdout",
          "text": [
            "(5,)\n",
            "<class 'tuple'>\n"
          ]
        }
      ]
    },
    {
      "cell_type": "code",
      "source": [
        "a=(1,2,3,4,5)\n",
        "print(a)\n"
      ],
      "metadata": {
        "colab": {
          "base_uri": "https://localhost:8080/"
        },
        "id": "ZrIweI_SU-Fn",
        "outputId": "936c726c-99cc-4cb2-dbff-0f7b90f79f87"
      },
      "execution_count": null,
      "outputs": [
        {
          "output_type": "stream",
          "name": "stdout",
          "text": [
            "(1, 2, 3, 4, 5)\n"
          ]
        }
      ]
    },
    {
      "cell_type": "code",
      "source": [
        "b=(6.5,5.9,2.0)\n",
        "print(b)"
      ],
      "metadata": {
        "colab": {
          "base_uri": "https://localhost:8080/"
        },
        "id": "epueE5UKVF3P",
        "outputId": "ef852411-b7be-4100-c105-61ffc20eacfc"
      },
      "execution_count": null,
      "outputs": [
        {
          "output_type": "stream",
          "name": "stdout",
          "text": [
            "(6.5, 5.9, 2.0)\n"
          ]
        }
      ]
    },
    {
      "cell_type": "code",
      "source": [
        "c=('one,two ,three')\n",
        "c"
      ],
      "metadata": {
        "colab": {
          "base_uri": "https://localhost:8080/",
          "height": 36
        },
        "id": "JRAq3I9hVbqh",
        "outputId": "dc6811f4-eda9-4333-e9e1-d4b2c5d7b1d7"
      },
      "execution_count": null,
      "outputs": [
        {
          "output_type": "execute_result",
          "data": {
            "text/plain": [
              "'one,two ,three'"
            ],
            "application/vnd.google.colaboratory.intrinsic+json": {
              "type": "string"
            }
          },
          "metadata": {},
          "execution_count": 5
        }
      ]
    },
    {
      "cell_type": "code",
      "source": [
        "mix=('hello',708,66.8,1,2)\n",
        "mix"
      ],
      "metadata": {
        "colab": {
          "base_uri": "https://localhost:8080/"
        },
        "id": "6j_-x05YVqei",
        "outputId": "37b8d9b1-fa62-40fc-bca4-e112fd3e8dfe"
      },
      "execution_count": null,
      "outputs": [
        {
          "output_type": "execute_result",
          "data": {
            "text/plain": [
              "('hello', 708, 66.8, 1, 2)"
            ]
          },
          "metadata": {},
          "execution_count": 6
        }
      ]
    },
    {
      "cell_type": "code",
      "source": [
        "len(a)\n"
      ],
      "metadata": {
        "colab": {
          "base_uri": "https://localhost:8080/"
        },
        "id": "tnw-f-6HV2KW",
        "outputId": "30258907-e1aa-4030-b71c-826751ef1911"
      },
      "execution_count": null,
      "outputs": [
        {
          "output_type": "execute_result",
          "data": {
            "text/plain": [
              "5"
            ]
          },
          "metadata": {},
          "execution_count": 7
        }
      ]
    },
    {
      "cell_type": "code",
      "source": [
        "type(a)"
      ],
      "metadata": {
        "colab": {
          "base_uri": "https://localhost:8080/"
        },
        "id": "5RMAf0_gW8Nv",
        "outputId": "4188f6e2-9bf1-4915-ab7f-59554b3f450b"
      },
      "execution_count": null,
      "outputs": [
        {
          "output_type": "execute_result",
          "data": {
            "text/plain": [
              "tuple"
            ]
          },
          "metadata": {},
          "execution_count": 8
        }
      ]
    },
    {
      "cell_type": "code",
      "source": [
        "set1 = {1,2,3,4}\n",
        "print(set1)"
      ],
      "metadata": {
        "colab": {
          "base_uri": "https://localhost:8080/"
        },
        "id": "9buvqwnZX_6O",
        "outputId": "7758d9a8-11b8-44c9-8b3e-3dcd36622d02"
      },
      "execution_count": null,
      "outputs": [
        {
          "output_type": "stream",
          "name": "stdout",
          "text": [
            "{1, 2, 3, 4}\n"
          ]
        }
      ]
    },
    {
      "cell_type": "code",
      "source": [
        "set={1,2,3,4,5,6,7,1,1}\n",
        "set"
      ],
      "metadata": {
        "colab": {
          "base_uri": "https://localhost:8080/"
        },
        "id": "jbJGz8k1YVag",
        "outputId": "4aea8646-2e89-4f3a-e75f-a8e35d77b8d7"
      },
      "execution_count": null,
      "outputs": [
        {
          "output_type": "execute_result",
          "data": {
            "text/plain": [
              "{1, 2, 3, 4, 5, 6, 7}"
            ]
          },
          "metadata": {},
          "execution_count": 13
        }
      ]
    },
    {
      "cell_type": "code",
      "source": [
        "def add():\n",
        "    a=2\n",
        "    b=3\n",
        "    sum=a+b\n",
        "    return sum\n",
        "add()\n",
        "print(add())"
      ],
      "metadata": {
        "colab": {
          "base_uri": "https://localhost:8080/"
        },
        "id": "pHJz2K2eaeye",
        "outputId": "e4501af4-f88a-47cb-f82b-7f6fe2ef4b7b"
      },
      "execution_count": null,
      "outputs": [
        {
          "output_type": "stream",
          "name": "stdout",
          "text": [
            "5\n"
          ]
        }
      ]
    },
    {
      "cell_type": "code",
      "source": [],
      "metadata": {
        "id": "VhVUj3C-ayzv"
      },
      "execution_count": null,
      "outputs": []
    }
  ],
  "metadata": {
    "colab": {
      "toc_visible": true,
      "provenance": []
    },
    "kernelspec": {
      "display_name": "Python 3",
      "name": "python3"
    }
  },
  "nbformat": 4,
  "nbformat_minor": 0
}